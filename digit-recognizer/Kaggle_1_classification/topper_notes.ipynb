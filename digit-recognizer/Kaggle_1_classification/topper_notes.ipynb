{
 "cells": [
  {
   "cell_type": "code",
   "execution_count": 17,
   "metadata": {},
   "outputs": [],
   "source": [
    "import pandas as pd\n",
    "\n",
    "from catboost import Pool,CatBoostClassifier"
   ]
  },
  {
   "cell_type": "code",
   "execution_count": 24,
   "metadata": {},
   "outputs": [],
   "source": [
    "train = pd.read_csv(\"./train.csv\")\n",
    "test = pd.read_csv(\"./test.csv\")\n",
    "original = pd.read_csv('./machine failure.csv')"
   ]
  },
  {
   "cell_type": "code",
   "execution_count": 25,
   "metadata": {},
   "outputs": [],
   "source": [
    "train.drop('id', axis=1, inplace=True)\n",
    "test.drop('id', axis=1, inplace=True)\n",
    "original.drop('UDI', axis=1, inplace=True)\n",
    "\n",
    "joined_train_orig = pd.concat([train, original], axis = 0).reset_index(drop=True)\n",
    "y = joined_train_orig['Machine failure']\n",
    "X = joined_train_orig.drop(columns=[\"Machine failure\"])"
   ]
  },
  {
   "cell_type": "code",
   "execution_count": 26,
   "metadata": {},
   "outputs": [],
   "source": [
    "feature_names = ['Product ID','Type',\n",
    "                 'Air temperature [K]','Process temperature [K]',\n",
    "                 'Rotational speed [rpm]','Torque [Nm]',\n",
    "                 'Tool wear [min]','TWF','HDF',\n",
    "                 'PWF','OSF','RNF']\n",
    "\n",
    "train_pool = Pool(X.to_numpy(), y.to_numpy(), \n",
    "                  feature_names=feature_names, \n",
    "                  cat_features=['Product ID', 'Type'])"
   ]
  },
  {
   "cell_type": "code",
   "execution_count": 27,
   "metadata": {},
   "outputs": [],
   "source": [
    "model = CatBoostClassifier()\n",
    "model.fit(train_pool, eval_set=train_pool, verbose=False)\n",
    "\n",
    "test_pool = Pool(test.to_numpy(), feature_names=feature_names, cat_features=['Product ID', 'Type'])\n",
    "pred = model.predict_proba(test_pool)[:, 1]"
   ]
  },
  {
   "cell_type": "code",
   "execution_count": 28,
   "metadata": {},
   "outputs": [],
   "source": [
    "sub = pd.read_csv('./sample_submission.csv')\n",
    "sub['Machine failure'] = pred\n",
    "sub.to_csv('submission_topper2.csv', index=False)"
   ]
  }
 ],
 "metadata": {
  "kernelspec": {
   "display_name": "Python 3",
   "language": "python",
   "name": "python3"
  },
  "language_info": {
   "codemirror_mode": {
    "name": "ipython",
    "version": 3
   },
   "file_extension": ".py",
   "mimetype": "text/x-python",
   "name": "python",
   "nbconvert_exporter": "python",
   "pygments_lexer": "ipython3",
   "version": "3.11.3"
  },
  "orig_nbformat": 4
 },
 "nbformat": 4,
 "nbformat_minor": 2
}
